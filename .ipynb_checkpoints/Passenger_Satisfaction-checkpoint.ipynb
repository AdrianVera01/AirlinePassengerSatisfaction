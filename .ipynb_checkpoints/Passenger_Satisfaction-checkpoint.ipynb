{
 "cells": [
  {
   "cell_type": "markdown",
   "metadata": {
    "id": "lvaB6DtNrXOb"
   },
   "source": [
    "## Proyecto Final Inteligencia Artificial - Satisfacción de los pasajeros de una Aerolinea\n",
    "\n",
    "Desarrollado por: Juanita Marulanda Argüello y Yorman Adrian Vera Rozo\n",
    "\n",
    "Se tiene como objetivo la predicción de qué tan satisfechos (satisfecho o no satisfecho)\n",
    "se encuentran los usuarios con una aerolínea. El dataset se encuentra en\n",
    "https://www.kaggle.com/datasets/teejmahal20/airline-passenger-satisfaction.\n",
    "Los datos de entrenamiento tiene una cantidad de 103904 muestras, con las siguientes características:\n",
    "- \"Gender\"\n",
    "- \"Customer Type\"\n",
    "- \"Age\",\"Class\"\n",
    "- \"Inflight wifi service\"\n",
    "- \"Ease of Online booking\"\n",
    "- \"Gate location\",\"Food and drink\"\n",
    "- \"Online boarding\",\"Seat comfort\"\n",
    "- \"Inflight entertainment\"\n",
    "- \"On-board service\",\"Leg room service\"\n",
    "- \"Baggage handling\",\"Checkin service\"\n",
    "- \"Inflight service\"\n",
    "-Y como etiquetas tiene:\n",
    "- \"satisfaction\""
   ]
  },
  {
   "cell_type": "markdown",
   "metadata": {
    "id": "-lY2ma3o6ON3"
   },
   "source": [
    "Librerías utilizadas"
   ]
  },
  {
   "cell_type": "code",
   "execution_count": null,
   "metadata": {
    "id": "sKqZVhnx6Nn5"
   },
   "outputs": [],
   "source": [
    "import pandas as pd\n",
    "import numpy as np\n",
    "import seaborn as sns\n",
    "import matplotlib.pyplot as plt\n",
    "from mpl_toolkits.mplot3d import Axes3D\n",
    "from sklearn import decomposition\n",
    "from sklearn import datasets\n",
    "from sklearn.preprocessing import StandardScaler\n",
    "from sklearn.preprocessing import MinMaxScaler\n",
    "from sklearn.decomposition import PCA, KernelPCA\n",
    "from sklearn.model_selection import train_test_split\n",
    "from matplotlib.colors import ListedColormap\n",
    "from sklearn import svm\n",
    "from sklearn import metrics\n",
    "from sklearn.linear_model import LogisticRegression\n",
    "from sklearn.metrics import matthews_corrcoef\n",
    "from sklearn.metrics import accuracy_score\n",
    "from sklearn.metrics import roc_curve,roc_auc_score\n",
    "from sklearn.model_selection import GridSearchCV\n",
    "from sklearn.neural_network import MLPClassifier\n",
    "from sklearn.metrics import classification_report\n",
    "from sklearn.metrics import confusion_matrix\n"
   ]
  },
  {
   "cell_type": "markdown",
   "metadata": {
    "id": "0nD6hd8t6VVa"
   },
   "source": [
    "Limpieza y preprocesamiento de los datos"
   ]
  },
  {
   "cell_type": "code",
   "execution_count": null,
   "metadata": {
    "colab": {
     "base_uri": "https://localhost:8080/"
    },
    "id": "Rm0m_o5Z6Yu2",
    "outputId": "725c9045-f556-4263-ffaa-c20bfebaae84"
   },
   "outputs": [
    {
     "name": "stdout",
     "output_type": "stream",
     "text": [
      "Los datos vacios en train son: \n",
      "\n",
      "Unnamed: 0                             0\n",
      "id                                     0\n",
      "Gender                                 0\n",
      "Customer Type                          0\n",
      "Age                                    0\n",
      "Type of Travel                         0\n",
      "Class                                  0\n",
      "Flight Distance                        0\n",
      "Inflight wifi service                  0\n",
      "Departure/Arrival time convenient      0\n",
      "Ease of Online booking                 0\n",
      "Gate location                          0\n",
      "Food and drink                         0\n",
      "Online boarding                        0\n",
      "Seat comfort                           0\n",
      "Inflight entertainment                 0\n",
      "On-board service                       0\n",
      "Leg room service                       0\n",
      "Baggage handling                       0\n",
      "Checkin service                        0\n",
      "Inflight service                       0\n",
      "Cleanliness                            0\n",
      "Departure Delay in Minutes             0\n",
      "Arrival Delay in Minutes             310\n",
      "satisfaction                           0\n",
      "dtype: int64\n",
      "Los datos vacios en test son: \n",
      "\n",
      "Unnamed: 0                            0\n",
      "id                                    0\n",
      "Gender                                0\n",
      "Customer Type                         0\n",
      "Age                                   0\n",
      "Type of Travel                        0\n",
      "Class                                 0\n",
      "Flight Distance                       0\n",
      "Inflight wifi service                 0\n",
      "Departure/Arrival time convenient     0\n",
      "Ease of Online booking                0\n",
      "Gate location                         0\n",
      "Food and drink                        0\n",
      "Online boarding                       0\n",
      "Seat comfort                          0\n",
      "Inflight entertainment                0\n",
      "On-board service                      0\n",
      "Leg room service                      0\n",
      "Baggage handling                      0\n",
      "Checkin service                       0\n",
      "Inflight service                      0\n",
      "Cleanliness                           0\n",
      "Departure Delay in Minutes            0\n",
      "Arrival Delay in Minutes             83\n",
      "satisfaction                          0\n",
      "dtype: int64\n",
      "Las dimensiones del conjunto de datos son: (103904, 19)\n",
      "Las nuevas dimensiones del conjunto de datos son: (103904, 19)\n"
     ]
    }
   ],
   "source": [
    "\n",
    "data = pd.read_csv(\"train.csv\", sep=\",\") # Importar los datos\n",
    "test = pd.read_csv(\"test.csv\", sep=\",\") # Importar los datos\n",
    "\n",
    "print(\"Los datos vacios en train son: \\n\")\n",
    "print(data.isnull().sum()) #Se mira cuales columnas les falta datos\n",
    "\n",
    "print(\"Los datos vacios en test son: \\n\")\n",
    "print(test.isnull().sum()) #Se mira cuales columnas les falta datos\n",
    "\n",
    "# Se eliminan las columnas que no se utilizaran\n",
    "data = data.drop(['id', 'Type of Travel', 'Flight Distance', 'Departure/Arrival time convenient', 'Departure Delay in Minutes','Arrival Delay in Minutes'], axis=1)\n",
    "print(\"Las dimensiones del conjunto de datos son:\",data.shape)\n",
    "\n",
    "#Eliminar las filas con valores nulos o completarlos con la media de los existentes\n",
    "\n",
    "data = data[data['Gender'].notna()]\n",
    "data = data[data['Customer Type'].notna()]\n",
    "data = data[data['Age'].notna()]\n",
    "data = data[data['Class'].notna()]\n",
    "data = data[data['Inflight wifi service'].notna()]\n",
    "data = data[data['Ease of Online booking'].notna()]\n",
    "data = data[data['Gate location'].notna()]\n",
    "data = data[data['Food and drink'].notna()]\n",
    "data = data[data['Online boarding'].notna()]\n",
    "data = data[data['Seat comfort'].notna()]\n",
    "data = data[data['Inflight entertainment'].notna()]\n",
    "data = data[data['On-board service'].notna()]\n",
    "data = data[data['Leg room service'].notna()]\n",
    "data = data[data['Baggage handling'].notna()]\n",
    "data = data[data['Checkin service'].notna()]\n",
    "data = data[data['Inflight service'].notna()]\n",
    "data = data[data['satisfaction'].notna()]\n",
    "\n",
    "print(\"Las nuevas dimensiones del conjunto de datos son:\",data.shape)\n",
    "\n",
    "data.loc[data['Gender'] == 'Male', 'Gender'] = '1'\n",
    "data.loc[data['Gender'] == 'Female', 'Gender'] = '0'\n",
    "\n",
    "data.loc[data['Customer Type'] == 'Loyal Customer', 'Customer Type'] = '1'\n",
    "data.loc[data['Customer Type'] == 'disloyal Customer', 'Customer Type'] = '0'\n",
    "\n",
    "data.loc[data['Class'] == 'Business', 'Class'] = '2'\n",
    "data.loc[data['Class'] == 'Eco Plus', 'Class'] = '1'\n",
    "data.loc[data['Class'] == 'Eco', 'Class'] = '0'\n",
    "\n",
    "data.loc[data['satisfaction'] == 'satisfied', 'satisfaction'] = '1'\n",
    "data.loc[data['satisfaction'] == 'neutral or dissatisfied', 'satisfaction'] = '0'\n",
    "\n"
   ]
  },
  {
   "cell_type": "markdown",
   "metadata": {
    "id": "BKxrO3tH7UE1"
   },
   "source": [
    "Crear csv con datos limpios."
   ]
  },
  {
   "cell_type": "code",
   "execution_count": null,
   "metadata": {
    "id": "FW0W-Zil8yns"
   },
   "outputs": [],
   "source": [
    "clean_data = pd.DataFrame(data, columns = ['Gender','Customer Type','Age','Class','Inflight wifi service','Ease of Online booking','Gate location','Food and drink','Online boarding','Seat comfort','Inflight entertainment','On-board service','Leg room service','Baggage handling','Checkin service','Inflight service','satisfaction'])\n",
    "#print(\"Datos limpios \", clean_data)\n",
    "\n",
    "clean_data.to_csv('clean_data.csv')\n",
    "\n",
    "Xo = pd.DataFrame(clean_data, columns = ['Gender','Customer Type','Age','Class','Inflight wifi service','Ease of Online booking','Gate location','Food and drink','Online boarding','Seat comfort','Inflight entertainment','On-board service','Leg room service','Baggage handling','Checkin service','Inflight service'])\n",
    "Y  = pd.DataFrame(clean_data, columns = ['satisfaction'])\n",
    "\n"
   ]
  },
  {
   "cell_type": "markdown",
   "metadata": {
    "id": "31o8vbjC6eUQ"
   },
   "source": [
    "Seleccion de los datos de train y test, Normalización y PCA"
   ]
  },
  {
   "cell_type": "code",
   "execution_count": null,
   "metadata": {
    "id": "aCqF-dWC6sG_"
   },
   "outputs": [],
   "source": [
    "\n",
    "#--------------------Seleccionar datos train y test para el modelo (80% y 20%)-----------------------------------\n",
    "\n",
    "X_train, X_test, Y_train, Y_test = train_test_split(Xo, Y, test_size=0.2, train_size=0.8, random_state=0)\n",
    "\n",
    "#--------------------Funcion Nomrmalizacion(X)---------------------------------------------------\n",
    "\n",
    "def normMinMax(Xo):\n",
    "    #scaler = StandardScaler()\n",
    "    #scaler.fit(Xo)\n",
    "    scaler = MinMaxScaler()\n",
    "    scaler.fit(Xo)\n",
    "    #print(Xo)\n",
    "    X = scaler.transform(Xo)\n",
    "    #print(X,X.shape)\n",
    "    return X\n",
    "\n",
    "\n",
    "#--------------------Funcion PCA (X, Numero de componentes)-----------------------------------\n",
    "def PCAfunction(X, comps):\n",
    "    pca = decomposition.PCA(n_components=comps,whiten=True,svd_solver='auto')\n",
    "    pca.fit(X)\n",
    "    X = pca.transform(X)\n",
    "    print(\"Pesos de PCA:\",pca.explained_variance_ratio_,'\\n')\n",
    "    sumpca = sum(pca.explained_variance_ratio_)\n",
    "    print(\"Se puede hacer reduccion dimensional, quedaria con \",comps,\"y la suma de las componentes que quedan es:\", sumpca,\"\\n\")\n",
    "    return X\n",
    "\n"
   ]
  },
  {
   "cell_type": "markdown",
   "metadata": {
    "id": "TuBoW_Al60IK"
   },
   "source": [
    "Usando grid search se buscan los hiperparámetros para 3 métodos: Regresión Logística, SVM y Neuronal Networks"
   ]
  },
  {
   "cell_type": "code",
   "execution_count": null,
   "metadata": {
    "colab": {
     "base_uri": "https://localhost:8080/",
     "height": 1000
    },
    "id": "gMIWelvvCvuY",
    "outputId": "3bb4fef0-0749-4203-e43c-b3acf0941758"
   },
   "outputs": [
    {
     "name": "stdout",
     "output_type": "stream",
     "text": [
      "Pesos de PCA: [0.20956497 0.15838147 0.10814354 0.10472027 0.09434936 0.08180996\n",
      " 0.05630297 0.03728755 0.03104064 0.0250475  0.02267423 0.01901948\n",
      " 0.01516728 0.01473352 0.01205098] \n",
      "\n",
      "Se puede hacer reduccion dimensional, quedaria con  15 y la suma de las componentes que quedan es: 0.9902937492233985 \n",
      "\n",
      "Pesos de PCA: [0.20737403 0.15547018 0.11602745 0.1066559  0.0963561  0.07646662\n",
      " 0.04829494 0.03724011 0.03114435 0.02958988 0.02254236 0.01954298\n",
      " 0.01772262 0.01408371 0.01203628] \n",
      "\n",
      "Se puede hacer reduccion dimensional, quedaria con  15 y la suma de las componentes que quedan es: 0.9905475090906904 \n",
      "\n",
      "\n",
      " matthews_corrcoef para LR:  0.5792328827392802 \n",
      "\n",
      "Accuracy LR Test:  0.794283239497618\n",
      "roc_auc LR Test:  0.7875419658423712\n",
      "\n",
      " Matriz de confusion para Regresion Logistica\n"
     ]
    },
    {
     "data": {
      "image/png": "[encoded data removed]",
      "text/plain": [
       "<Figure size 432x288 with 2 Axes>"
      ]
     },
     "metadata": {
      "needs_background": "light"
     },
     "output_type": "display_data"
    },
    {
     "name": "stdout",
     "output_type": "stream",
     "text": [
      "\n",
      " matthews_corrcoef:  0.5792328827392802 \n",
      "\n",
      "Accuracy:  0.794283239497618 \n",
      "\n",
      "\n",
      " matthews_corrcoef para SVM:  0.46912946879494155 \n",
      "\n",
      "Accuracy SVM Test:  0.7354795245657091\n",
      "roc_auc SVM Test:  0.736371716735903\n",
      "\n",
      " Matriz de confusion para Support vector Machine\n"
     ]
    },
    {
     "data": {
      "image/png": "[encoded data removed]",
      "text/plain": [
       "<Figure size 432x288 with 2 Axes>"
      ]
     },
     "metadata": {
      "needs_background": "light"
     },
     "output_type": "display_data"
    },
    {
     "name": "stdout",
     "output_type": "stream",
     "text": [
      "\n",
      " matthews_corrcoef para ANN:  0.5656529293943204 \n",
      "\n",
      "Accuracy ANN Test:  0.7880275251431597\n",
      "roc_auc ANN Test:  0.776426503922752\n",
      "\n",
      " Matriz de confusion para Redes Neuronales\n"
     ]
    },
    {
     "name": "stderr",
     "output_type": "stream",
     "text": [
      "/usr/local/lib/python3.7/dist-packages/sklearn/metrics/_ranking.py:546: FutureWarning: Arrays of bytes/strings is being converted to decimal numbers if dtype='numeric'. This behavior is deprecated in 0.24 and will be removed in 1.1 (renaming of 0.26). Please convert your data to numeric values explicitly instead.\n",
      "  y_score = check_array(y_score, ensure_2d=False)\n"
     ]
    },
    {
     "data": {
      "image/png": "[encoded data removed]",
      "text/plain": [
       "<Figure size 432x288 with 2 Axes>"
      ]
     },
     "metadata": {
      "needs_background": "light"
     },
     "output_type": "display_data"
    }
   ],
   "source": [
    "\n",
    "Xn = normMinMax(X_train)\n",
    "X_train =PCAfunction(Xn,15)\n",
    "\n",
    "\n",
    "Xtn = normMinMax(X_test)\n",
    "X_test =PCAfunction(Xtn,15)\n",
    "'''\n",
    "Se buscan los hiperparámetros por medio de GridSearch con crossvalidation.\n",
    "Se entrenan los diferentes métodos con los hiperparámetros encontrados y se obtiene\n",
    "accuracy y roc_auc con el conjunto de datos de test, que corresponde al 10% del dataset.\n",
    "\n",
    "Referencia de la función GridSearch\n",
    "https://scikit-learn.org/stable/modules/generated/sklearn.model_selection.GridSearchCV.html\n",
    "\n",
    "\n",
    "'''\n",
    "\n",
    "#-------------------- Regresión Logística---------------------------------\n",
    "\n",
    "#https://scikit-learn.org/stable/modules/generated/sklearn.linear_model.LogisticRegression.html?highlight=logistic#\n",
    "\n",
    "LR = LogisticRegression(C=10)\n",
    "LR.fit(X_train,Y_train.values.ravel())\n",
    "\n",
    "Y_pred_LR = LR.predict(X_test)\n",
    "Acc_LR = LR.score(X_test,Y_test.values.ravel())\n",
    "Y_test_scores_LR = LR.decision_function(X_test)\n",
    "\n",
    "\n",
    "MCC_LR = matthews_corrcoef(Y_test, Y_pred_LR)\n",
    "print(\"\\n\",\"matthews_corrcoef para LR: \", MCC_LR,\"\\n\")\n",
    "\n",
    "\n",
    "print(\"Accuracy LR Test: \",Acc_LR)\n",
    "\n",
    "Auc_LR = roc_auc_score(Y_test.values.ravel(),Y_pred_LR)\n",
    "print(\"roc_auc LR Test: \",Auc_LR)\n",
    "\n",
    "print(\"\\n Matriz de confusion para Regresion Logistica\")\n",
    "cm_LR=confusion_matrix(Y_test.values.ravel(),Y_pred_LR)\n",
    "sns.heatmap(cm_LR,annot=True,fmt='d')\n",
    "plt.show()\n",
    "\n",
    "\n",
    "MCC = matthews_corrcoef(Y_test, Y_pred_LR)\n",
    "print(\"\\n\",\"matthews_corrcoef: \", MCC,\"\\n\")\n",
    "ACC = accuracy_score(Y_test, Y_pred_LR)\n",
    "print(\"Accuracy: \", ACC,\"\\n\")\n",
    "\n",
    "#-------------------- Support Vector Machine -------------------------------\n",
    "#https://scikit-learn.org/stable/modules/generated/sklearn.svm.SVC.html\n",
    "\n",
    "MSV = svm.SVC(kernel=\"sigmoid\", C=10, gamma='scale')\n",
    "MSV.fit(X_train,Y_train.values.ravel())\n",
    "\n",
    "ACC = MSV.score(X_train, Y_train.values.ravel())\n",
    "\n",
    "\n",
    "Y_test_predicted_SVM = (MSV.predict(X_test))\n",
    "Y_test_scores = MSV.decision_function(X_test)\n",
    "\n",
    "\n",
    "MCC_SVM = matthews_corrcoef(Y_test, Y_test_predicted_SVM)\n",
    "print(\"\\n\",\"matthews_corrcoef para SVM: \", MCC_SVM,\"\\n\")\n",
    "\n",
    "\n",
    "\n",
    "Y_pred_SVM = MSV.predict(X_test)\n",
    "Acc_SVM = MSV.score(X_test,Y_test.values.ravel())\n",
    "print(\"Accuracy SVM Test: \",Acc_SVM)\n",
    "\n",
    "Auc_SVM = roc_auc_score(Y_test.values.ravel(),Y_pred_SVM)\n",
    "print(\"roc_auc SVM Test: \",Auc_SVM)\n",
    "\n",
    "print(\"\\n Matriz de confusion para Support vector Machine\")\n",
    "cm_SVM=confusion_matrix(Y_test.values.ravel(),Y_pred_SVM)\n",
    "sns.heatmap(cm_SVM,annot=True,fmt='d')\n",
    "plt.show()\n",
    "\n",
    "#------------------------------Redes Neuronales--------------------------\n",
    "#https://scikit-learn.org/stable/modules/generated/sklearn.neural_network.MLPClassifier.html#sklearn.neural_network.MLPClassifier\n",
    "\n",
    "ANN = MLPClassifier(hidden_layer_sizes=(100,100), activation='relu', solver='adam', alpha=10, batch_size='auto', learning_rate='adaptive', max_iter=5000)\n",
    "ANN.fit(X_train,Y_train.values.ravel())\n",
    "\n",
    "\n",
    "Y_test_predicted_ANN = (ANN.predict(X_test))\n",
    "Y_pred_ANN = ANN.predict(X_test)\n",
    "\n",
    "MCC_ANN = matthews_corrcoef(Y_test, Y_test_predicted_ANN)\n",
    "print(\"\\n\",\"matthews_corrcoef para ANN: \", MCC_ANN,\"\\n\")\n",
    "\n",
    "\n",
    "Acc_ANN = accuracy_score(Y_test.values.ravel(),Y_test_predicted_ANN)\n",
    "print(\"Accuracy ANN Test: \",Acc_ANN)\n",
    "\n",
    "Auc_ANN = roc_auc_score(Y_test,Y_pred_ANN)\n",
    "print(\"roc_auc ANN Test: \",Auc_ANN)\n",
    "\n",
    "\n",
    "print(\"\\n Matriz de confusion para Redes Neuronales\")\n",
    "cm_ANN=confusion_matrix(Y_test.values.ravel(),Y_pred_ANN)\n",
    "sns.heatmap(cm_ANN,annot=True,fmt='d')\n",
    "plt.show()\n"
   ]
  },
  {
   "cell_type": "markdown",
   "metadata": {
    "id": "7UT8lUUnZSOp"
   },
   "source": [
    "Usando el archivo de validación 'test.csv' se obtiene el accuracy y la roc auc para cada uno de los tres métodos implementados."
   ]
  },
  {
   "cell_type": "code",
   "execution_count": null,
   "metadata": {
    "colab": {
     "base_uri": "https://localhost:8080/"
    },
    "id": "z68Jsb2LZiLd",
    "outputId": "cce0d7c6-6ae0-45b3-e887-b4f27d219a83"
   },
   "outputs": [
    {
     "name": "stdout",
     "output_type": "stream",
     "text": [
      "\n",
      " Las dimensiones del conjunto de datos son: (25976, 19)\n",
      "Las nuevas dimensiones del conjunto de datos son: (25976, 19)\n",
      "Pesos de PCA: [0.20459757 0.15459192 0.10678019 0.10427878 0.1004222  0.08131066\n",
      " 0.05607328 0.0460705  0.02982212 0.02482189 0.0216235  0.01843309\n",
      " 0.01529223 0.01424273 0.01232763] \n",
      "\n",
      "Se puede hacer reduccion dimensional, quedaria con  15 y la suma de las componentes que quedan es: 0.9906882965108995 \n",
      "\n",
      "Accuracy LR Validation:  0.8322682476131814\n",
      "roc_auc LR Validation:  0.8272859829949247\n",
      "\n",
      " matthews_corrcoef Regresion Logisitica:  0.6583251616498929 \n",
      "\n",
      "Accuracy SVM Validation:  0.7485756082537727\n",
      "roc_auc SVM Validation:  0.7432342077193507\n",
      "\n",
      " matthews_corrcoef SVM:  0.4881282929482373 \n",
      "\n",
      "Accuracy ANN Validation:  0.8338466276562981\n",
      "roc_auc ANN Validation:  0.8250491456587041\n",
      "\n",
      " matthews_corrcoef ANN:  0.6619870657895806 \n",
      "\n"
     ]
    },
    {
     "name": "stderr",
     "output_type": "stream",
     "text": [
      "/usr/local/lib/python3.7/dist-packages/sklearn/metrics/_ranking.py:546: FutureWarning: Arrays of bytes/strings is being converted to decimal numbers if dtype='numeric'. This behavior is deprecated in 0.24 and will be removed in 1.1 (renaming of 0.26). Please convert your data to numeric values explicitly instead.\n",
      "  y_score = check_array(y_score, ensure_2d=False)\n"
     ]
    }
   ],
   "source": [
    "\n",
    "#------------------Con el Conjunto de Validación TEST.csv----------------------------------------------------------\n",
    "\n",
    "\n",
    "def limpiardatos(test):\n",
    "    # Se eliminan las columnas que no se utilizaran\n",
    "    test = test.drop([\"id\", \"Type of Travel\", \"Flight Distance\", \"Departure/Arrival time convenient\", \"Departure Delay in Minutes\",\"Arrival Delay in Minutes\"], axis=1)\n",
    "    print(\"\\n Las dimensiones del conjunto de datos son:\",test.shape)\n",
    "\n",
    "    #Eliminar las filas con valores nulos o completarlos con la media de los existentes\n",
    "\n",
    "    test = test[test[\"Gender\"].notna()]\n",
    "    test = test[test[\"Customer Type\"].notna()]\n",
    "    test = test[test[\"Age\"].notna()]\n",
    "    test = test[test[\"Class\"].notna()]\n",
    "    test = test[test[\"Inflight wifi service\"].notna()]\n",
    "    test = test[test[\"Ease of Online booking\"].notna()]\n",
    "    test = test[test[\"Gate location\"].notna()]\n",
    "    test = test[test[\"Food and drink\"].notna()]\n",
    "    test = test[test[\"Online boarding\"].notna()]\n",
    "    test = test[test[\"Seat comfort\"].notna()]\n",
    "    test = test[test[\"Inflight entertainment\"].notna()]\n",
    "    test = test[test[\"On-board service\"].notna()]\n",
    "    test = test[test[\"Leg room service\"].notna()]\n",
    "    test = test[test[\"Baggage handling\"].notna()]\n",
    "    test = test[test[\"Checkin service\"].notna()]\n",
    "    test = test[test[\"Inflight service\"].notna()]\n",
    "    test = test[test[\"satisfaction\"].notna()]\n",
    "\n",
    "    print(\"Las nuevas dimensiones del conjunto de datos son:\",test.shape)\n",
    "\n",
    "    test.loc[test[\"Gender\"] == \"Male\", \"Gender\"] = \"1\"\n",
    "    test.loc[test[\"Gender\"] == \"Female\", \"Gender\"] = \"0\"\n",
    "\n",
    "    test.loc[test[\"Customer Type\"] == \"Loyal Customer\", \"Customer Type\"] = \"1\"\n",
    "    test.loc[test[\"Customer Type\"] == \"disloyal Customer\", \"Customer Type\"] = \"0\"\n",
    "\n",
    "    test.loc[test[\"Class\"] == \"Business\", \"Class\"] = \"2\"\n",
    "    test.loc[test[\"Class\"] == \"Eco Plus\", \"Class\"] = \"1\"\n",
    "    test.loc[test[\"Class\"] == \"Eco\", \"Class\"] = \"0\"\n",
    "\n",
    "    test.loc[test[\"satisfaction\"] == \"satisfied\", \"satisfaction\"] = \"1\"\n",
    "    test.loc[test[\"satisfaction\"] == \"neutral or dissatisfied\", \"satisfaction\"] = \"0\"\n",
    "\n",
    "\n",
    "    X_val = pd.DataFrame(test, columns = [\"Gender\",\"Customer Type\",\"Age\",\"Class\",\"Inflight wifi service\",\"Ease of Online booking\",\"Gate location\",\"Food and drink\",\"Online boarding\",\"Seat comfort\",\"Inflight entertainment\",\"On-board service\",\"Leg room service\",\"Baggage handling\",\"Checkin service\",\"Inflight service\"])\n",
    "    Y_val  = pd.DataFrame(test, columns = [\"satisfaction\"])\n",
    "\n",
    "    return X_val,Y_val\n",
    "\n",
    "\n",
    "\n",
    "X_val,Y_val = limpiardatos(test)\n",
    "\n",
    "X_val = normMinMax(X_val)\n",
    "X_val =PCAfunction(X_val,15)\n",
    "\n",
    "#Regresion Logisitica\n",
    "\n",
    "Y_val_pred_LR = (LR.predict(X_val))\n",
    "ValAcc_LR = LR.score(X_val,Y_val.values.ravel())\n",
    "print(\"Accuracy LR Validation: \",ValAcc_LR)\n",
    "\n",
    "ValAuc_LR = roc_auc_score(Y_val.values.ravel(),Y_val_pred_LR)\n",
    "print(\"roc_auc LR Validation: \",ValAuc_LR)\n",
    "\n",
    "MCC = matthews_corrcoef(Y_val, Y_val_pred_LR)\n",
    "print(\"\\n\",\"matthews_corrcoef Regresion Logisitica: \", MCC,\"\\n\")\n",
    "\n",
    "#Support vector Machine\n",
    "\n",
    "Y_val_pred_SVM = (MSV.predict(X_val))\n",
    "ValAcc_SVM = MSV.score(X_val,Y_val.values.ravel())\n",
    "print(\"Accuracy SVM Validation: \",ValAcc_SVM)\n",
    "\n",
    "ValAuc_SVM = roc_auc_score(Y_val.values.ravel(),Y_val_pred_SVM)\n",
    "print(\"roc_auc SVM Validation: \",ValAuc_SVM)\n",
    "\n",
    "MCC = matthews_corrcoef(Y_val, Y_val_pred_SVM)\n",
    "print(\"\\n\",\"matthews_corrcoef SVM: \", MCC,\"\\n\")\n",
    "\n",
    "#Redes Neuronales\n",
    "\n",
    "Y_val_pred_ANN = (ANN.predict(X_val))\n",
    "ValAcc_ANN = ANN.score(X_val,Y_val.values.ravel())\n",
    "print(\"Accuracy ANN Validation: \",ValAcc_ANN)\n",
    "\n",
    "ValAuc_ANN = roc_auc_score(Y_val.values.ravel(),Y_val_pred_ANN)\n",
    "print(\"roc_auc ANN Validation: \",ValAuc_ANN)\n",
    "\n",
    "MCC = matthews_corrcoef(Y_val, Y_val_pred_ANN)\n",
    "print(\"\\n\",\"matthews_corrcoef ANN: \", MCC,\"\\n\")\n",
    "\n"
   ]
  }
 ],
 "metadata": {
  "colab": {
   "provenance": []
  },
  "kernelspec": {
   "display_name": "Python 3 (ipykernel)",
   "language": "python",
   "name": "python3"
  },
  "language_info": {
   "codemirror_mode": {
    "name": "ipython",
    "version": 3
   },
   "file_extension": ".py",
   "mimetype": "text/x-python",
   "name": "python",
   "nbconvert_exporter": "python",
   "pygments_lexer": "ipython3",
   "version": "3.10.12"
  }
 },
 "nbformat": 4,
 "nbformat_minor": 4
}
